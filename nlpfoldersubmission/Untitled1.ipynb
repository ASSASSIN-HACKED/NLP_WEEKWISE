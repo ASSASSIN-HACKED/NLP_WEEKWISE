{
 "cells": [
  {
   "cell_type": "markdown",
   "metadata": {},
   "source": [
    "# TASK 2- IMPORT BROWN CORPUS AND ACCESSING DATA\n"
   ]
  },
  {
   "cell_type": "code",
   "execution_count": 13,
   "metadata": {},
   "outputs": [
    {
     "data": {
      "text/plain": [
       "['Dan',\n",
       " 'Morgan',\n",
       " 'told',\n",
       " 'himself',\n",
       " 'he',\n",
       " 'would',\n",
       " 'forget',\n",
       " 'Ann',\n",
       " 'Turner',\n",
       " '.']"
      ]
     },
     "execution_count": 13,
     "metadata": {},
     "output_type": "execute_result"
    }
   ],
   "source": [
    "from nltk.corpus import brown\n",
    "brown.words(categories='adventure')[:10]"
   ]
  },
  {
   "cell_type": "markdown",
   "metadata": {},
   "source": [
    "# 3. IMPORT INAUGURAL CORPUS AND ACTIVITIES"
   ]
  },
  {
   "cell_type": "code",
   "execution_count": 14,
   "metadata": {},
   "outputs": [
    {
     "data": {
      "text/plain": [
       "['1789-Washington.txt',\n",
       " '1793-Washington.txt',\n",
       " '1797-Adams.txt',\n",
       " '1801-Jefferson.txt',\n",
       " '1805-Jefferson.txt',\n",
       " '1809-Madison.txt',\n",
       " '1813-Madison.txt',\n",
       " '1817-Monroe.txt',\n",
       " '1821-Monroe.txt',\n",
       " '1825-Adams.txt',\n",
       " '1829-Jackson.txt',\n",
       " '1833-Jackson.txt',\n",
       " '1837-VanBuren.txt',\n",
       " '1841-Harrison.txt',\n",
       " '1845-Polk.txt',\n",
       " '1849-Taylor.txt',\n",
       " '1853-Pierce.txt',\n",
       " '1857-Buchanan.txt',\n",
       " '1861-Lincoln.txt',\n",
       " '1865-Lincoln.txt',\n",
       " '1869-Grant.txt',\n",
       " '1873-Grant.txt',\n",
       " '1877-Hayes.txt',\n",
       " '1881-Garfield.txt',\n",
       " '1885-Cleveland.txt',\n",
       " '1889-Harrison.txt',\n",
       " '1893-Cleveland.txt',\n",
       " '1897-McKinley.txt',\n",
       " '1901-McKinley.txt',\n",
       " '1905-Roosevelt.txt',\n",
       " '1909-Taft.txt',\n",
       " '1913-Wilson.txt',\n",
       " '1917-Wilson.txt',\n",
       " '1921-Harding.txt',\n",
       " '1925-Coolidge.txt',\n",
       " '1929-Hoover.txt',\n",
       " '1933-Roosevelt.txt',\n",
       " '1937-Roosevelt.txt',\n",
       " '1941-Roosevelt.txt',\n",
       " '1945-Roosevelt.txt',\n",
       " '1949-Truman.txt',\n",
       " '1953-Eisenhower.txt',\n",
       " '1957-Eisenhower.txt',\n",
       " '1961-Kennedy.txt',\n",
       " '1965-Johnson.txt',\n",
       " '1969-Nixon.txt',\n",
       " '1973-Nixon.txt',\n",
       " '1977-Carter.txt',\n",
       " '1981-Reagan.txt',\n",
       " '1985-Reagan.txt',\n",
       " '1989-Bush.txt',\n",
       " '1993-Clinton.txt',\n",
       " '1997-Clinton.txt',\n",
       " '2001-Bush.txt',\n",
       " '2005-Bush.txt',\n",
       " '2009-Obama.txt',\n",
       " '2013-Obama.txt',\n",
       " '2017-Trump.txt']"
      ]
     },
     "execution_count": 14,
     "metadata": {},
     "output_type": "execute_result"
    }
   ],
   "source": [
    "from nltk.corpus import inaugural\n",
    "inaugural.fileids()"
   ]
  },
  {
   "cell_type": "code",
   "execution_count": 15,
   "metadata": {},
   "outputs": [
    {
     "data": {
      "text/plain": [
       "['Fellow',\n",
       " '-',\n",
       " 'Citizens',\n",
       " 'of',\n",
       " 'the',\n",
       " 'United',\n",
       " 'States',\n",
       " ':',\n",
       " 'In',\n",
       " 'compliance',\n",
       " 'with',\n",
       " 'a',\n",
       " 'custom',\n",
       " 'as',\n",
       " 'old',\n",
       " 'as',\n",
       " 'the',\n",
       " 'Government',\n",
       " 'itself',\n",
       " ',',\n",
       " 'I',\n",
       " 'appear',\n",
       " 'before',\n",
       " 'you',\n",
       " 'to',\n",
       " 'address',\n",
       " 'you',\n",
       " 'briefly',\n",
       " 'and',\n",
       " 'to',\n",
       " 'take',\n",
       " 'in',\n",
       " 'your',\n",
       " 'presence',\n",
       " 'the',\n",
       " 'oath',\n",
       " 'prescribed',\n",
       " 'by',\n",
       " 'the',\n",
       " 'Constitution',\n",
       " 'of',\n",
       " 'the',\n",
       " 'United',\n",
       " 'States',\n",
       " 'to',\n",
       " 'be',\n",
       " 'taken',\n",
       " 'by',\n",
       " 'the',\n",
       " 'President']"
      ]
     },
     "execution_count": 15,
     "metadata": {},
     "output_type": "execute_result"
    }
   ],
   "source": [
    "inaugural.words(fileids= '1861-Lincoln.txt')[:50]"
   ]
  },
  {
   "cell_type": "code",
   "execution_count": 19,
   "metadata": {},
   "outputs": [
    {
     "data": {
      "text/plain": [
       "FreqDist({'the': 8, 'of': 8, 'and': 4, 'to': 3, 'State': 2, 'its': 2, 'own': 2, 'Resolved,': 1, 'That': 1, 'maintenance': 1, ...})"
      ]
     },
     "execution_count": 19,
     "metadata": {},
     "output_type": "execute_result"
    }
   ],
   "source": [
    "# TASK 4: IMPORTING WEBTEXT CORPUS AND ACCESSING DATA(finding similarity)\n",
    "# TASK 5: FREQUENCY DISTRIBUTION OF WORDS IN A TEXT\n",
    "from nltk import FreqDist\n",
    "import nltk\n",
    "from nltk.probability import ConditionalFreqDist\n",
    "text1= 'Resolved, That the maintenance inviolate of the rights of the States, and especially the right of each State to order and control its own domestic institutions according to its own judgment exclusively, is essential to that balance of power on which the perfection and endurance of our political fabric depend; and we denounce the lawless invasion by armed force of the soil of any State or Territory, no matter what pretext, as among the gravest of crimes. '\n",
    "fd = nltk.FreqDist(text1.split())\n",
    "fd"
   ]
  },
  {
   "cell_type": "code",
   "execution_count": 20,
   "metadata": {},
   "outputs": [
    {
     "name": "stdout",
     "output_type": "stream",
     "text": [
      "<ConditionalFreqDist with 11 conditions>\n",
      "<FreqDist with 3 samples and 3 outcomes>\n"
     ]
    }
   ],
   "source": [
    "# TASK 6: conditional frequency distribution of words in a text\n",
    "from nltk.probability import ConditionalFreqDist\n",
    "cfd = ConditionalFreqDist((len(word),word)for word in text1.split())\n",
    "print(cfd)\n",
    "print(cfd[6])"
   ]
  },
  {
   "cell_type": "code",
   "execution_count": 21,
   "metadata": {},
   "outputs": [],
   "source": [
    "#HW 1: To determine frequency Distribution and conditional Frequency Distribution of any one of the presidential inaugral address"
   ]
  },
  {
   "cell_type": "code",
   "execution_count": 22,
   "metadata": {},
   "outputs": [],
   "source": [
    "#solution statement\n",
    "s=inaugural.words(fileids= '1865-Lincoln.txt')[:]"
   ]
  },
  {
   "cell_type": "code",
   "execution_count": 27,
   "metadata": {},
   "outputs": [
    {
     "data": {
      "text/plain": [
       "' Fellow - Countrymen : At this second appearing to take the oath of the Presidential office there is less occasion for an extended address than there was at the first . Then a statement somewhat in detail of a course to be pursued seemed fitting and proper . Now , at the expiration of four years , during which public declarations have been constantly called forth on every point and phase of the great contest which still absorbs the attention and engrosses the energies of the nation , little that is new could be presented . The progress of our arms , upon which all else chiefly depends , is as well known to the public as to myself , and it is , I trust , reasonably satisfactory and encouraging to all . With high hope for the future , no prediction in regard to it is ventured . On the occasion corresponding to this four years ago all thoughts were anxiously directed to an impending civil war . All dreaded it all sought to avert it . While the inaugural address was being delivered from this place , devoted altogether to saving the Union without war , urgent agents were in the city seeking to destroy it without war -- seeking to dissolve the Union and divide effects by negotiation . Both parties deprecated war , but one of them would make war rather than let the nation survive , and the other would accept war rather than let it perish , and the war came . One - eighth of the whole population were colored slaves , not distributed generally over the Union , but localized in the southern part of it . These slaves constituted a peculiar and powerful interest . All knew that this interest was somehow the cause of the war . To strengthen , perpetuate , and extend this interest was the object for which the insurgents would rend the Union even by war , while the Government claimed no right to do more than to restrict the territorial enlargement of it . Neither party expected for the war the magnitude or the duration which it has already attained . Neither anticipated that the cause of the conflict might cease with or even before the conflict itself should cease . Each looked for an easier triumph , and a result less fundamental and astounding . Both read the same Bible and pray to the same God , and each invokes His aid against the other . It may seem strange that any men should dare to ask a just God \\' s assistance in wringing their bread from the sweat of other men \\' s faces , but let us judge not , that we be not judged . The prayers of both could not be answered . That of neither has been answered fully . The Almighty has His own purposes . \" Woe unto the world because of offenses ; for it must needs be that offenses come , but woe to that man by whom the offense cometh .\" If we shall suppose that American slavery is one of those offenses which , in the providence of God , must needs come , but which , having continued through His appointed time , He now wills to remove , and that He gives to both North and South this terrible war as the woe due to those by whom the offense came , shall we discern therein any departure from those divine attributes which the believers in a living God always ascribe to Him ? Fondly do we hope , fervently do we pray , that this mighty scourge of war may speedily pass away . Yet , if God wills that it continue until all the wealth piled by the bondsman \\' s two hundred and fifty years of unrequited toil shall be sunk , and until every drop of blood drawn with the lash shall be paid by another drawn with the sword , as was said three thousand years ago , so still it must be said \" the judgments of the Lord are true and righteous altogether .\" With malice toward none , with charity for all , with firmness in the right as God gives us to see the right , let us strive on to finish the work we are in , to bind up the nation \\' s wounds , to care for him who shall have borne the battle and for his widow and his orphan , to do all which may achieve and cherish a just and lasting peace among ourselves and with all nations .'"
      ]
     },
     "execution_count": 27,
     "metadata": {},
     "output_type": "execute_result"
    }
   ],
   "source": [
    "#string to access values from the list\n",
    "l1=\"\"\n",
    "for l in s:\n",
    "    l1=l1+' '+l\n",
    "\n",
    "l1.rstrip()"
   ]
  },
  {
   "cell_type": "code",
   "execution_count": 24,
   "metadata": {},
   "outputs": [
    {
     "data": {
      "text/plain": [
       "FreqDist({'the': 55, ',': 43, 'to': 26, 'and': 24, '.': 23, 'of': 22, 'it': 12, 'war': 12, 'that': 11, 'for': 9, ...})"
      ]
     },
     "execution_count": 24,
     "metadata": {},
     "output_type": "execute_result"
    }
   ],
   "source": [
    "fd = nltk.FreqDist(l1.split())\n",
    "fd"
   ]
  },
  {
   "cell_type": "code",
   "execution_count": 25,
   "metadata": {},
   "outputs": [
    {
     "name": "stdout",
     "output_type": "stream",
     "text": [
      "<ConditionalFreqDist with 13 conditions>\n"
     ]
    },
    {
     "data": {
      "text/plain": [
       "FreqDist({'address': 2, 'without': 2, 'seeking': 2, 'Neither': 2, 'offense': 2, 'pursued': 1, 'fitting': 1, 'contest': 1, 'absorbs': 1, 'chiefly': 1, ...})"
      ]
     },
     "execution_count": 25,
     "metadata": {},
     "output_type": "execute_result"
    }
   ],
   "source": [
    "cfd1 = ConditionalFreqDist((len(word),word)for word in l1.split())\n",
    "print(cfd1)\n",
    "cfd1[7]"
   ]
  },
  {
   "cell_type": "markdown",
   "metadata": {},
   "source": [
    "thank you!"
   ]
  },
  {
   "cell_type": "code",
   "execution_count": null,
   "metadata": {},
   "outputs": [],
   "source": []
  },
  {
   "cell_type": "code",
   "execution_count": null,
   "metadata": {},
   "outputs": [],
   "source": []
  },
  {
   "cell_type": "code",
   "execution_count": null,
   "metadata": {},
   "outputs": [],
   "source": []
  }
 ],
 "metadata": {
  "kernelspec": {
   "display_name": "Python 3",
   "language": "python",
   "name": "python3"
  },
  "language_info": {
   "codemirror_mode": {
    "name": "ipython",
    "version": 3
   },
   "file_extension": ".py",
   "mimetype": "text/x-python",
   "name": "python",
   "nbconvert_exporter": "python",
   "pygments_lexer": "ipython3",
   "version": "3.7.6"
  },
  "widgets": {
   "application/vnd.jupyter.widget-state+json": {
    "state": {},
    "version_major": 2,
    "version_minor": 0
   }
  }
 },
 "nbformat": 4,
 "nbformat_minor": 4
}
